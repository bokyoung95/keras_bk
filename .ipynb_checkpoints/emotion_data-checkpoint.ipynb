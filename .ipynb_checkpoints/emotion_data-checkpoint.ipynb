{
 "cells": [
  {
   "cell_type": "code",
   "execution_count": 1,
   "metadata": {},
   "outputs": [],
   "source": [
    "import os, glob, tqdm\n",
    "import numpy as np\n",
    "import cv2\n",
    "from matplotlib import pyplot as plt"
   ]
  },
  {
   "cell_type": "markdown",
   "metadata": {},
   "source": [
    "# Make input data\n",
    "- emotion\n",
    "- using expand_dims() and vstack(), take together each data\n",
    "- color data -> cvtColor"
   ]
  },
  {
   "cell_type": "code",
   "execution_count": null,
   "metadata": {},
   "outputs": [],
   "source": [
    "data_path = './data_bk'\n",
    "emotion_list = os.listdir(data_path)\n",
    "emotion_list.sort()\n",
    "images_list = []\n",
    "add_img = np.zeros((1,120,120,3), dtype=np.uint8)\n",
    "label = np.zeros((1,5))\n",
    "add_list = np.zeros((1,5))\n",
    "row =0\n",
    "num =0"
   ]
  },
  {
   "cell_type": "code",
   "execution_count": 5,
   "metadata": {},
   "outputs": [
    {
     "data": {
      "application/vnd.jupyter.widget-view+json": {
       "model_id": "3a951fcdaf02476e9e8c9b6de9ac1299",
       "version_major": 2,
       "version_minor": 0
      },
      "text/html": [
       "<p>Failed to display Jupyter Widget of type <code>HBox</code>.</p>\n",
       "<p>\n",
       "  If you're reading this message in the Jupyter Notebook or JupyterLab Notebook, it may mean\n",
       "  that the widgets JavaScript is still loading. If this message persists, it\n",
       "  likely means that the widgets JavaScript library is either not installed or\n",
       "  not enabled. See the <a href=\"https://ipywidgets.readthedocs.io/en/stable/user_install.html\">Jupyter\n",
       "  Widgets Documentation</a> for setup instructions.\n",
       "</p>\n",
       "<p>\n",
       "  If you're reading this message in another frontend (for example, a static\n",
       "  rendering on GitHub or <a href=\"https://nbviewer.jupyter.org/\">NBViewer</a>),\n",
       "  it may mean that your frontend doesn't currently support widgets.\n",
       "</p>\n"
      ],
      "text/plain": [
       "HBox(children=(IntProgress(value=1, bar_style='info', max=1), HTML(value='')))"
      ]
     },
     "metadata": {},
     "output_type": "display_data"
    },
    {
     "name": "stdout",
     "output_type": "stream",
     "text": [
      "\n"
     ]
    }
   ],
   "source": [
    "#input data생성\n",
    "for i,name in tqdm.tqdm_notebook(enumerate(emotion_list)):\n",
    "    forder_path = glob.glob(data_path+'/'+ name +'/*.bmp')\n",
    "    for j,ipath in enumerate (forder_path):\n",
    "        images_list = cv2.imread(forder_path[j])\n",
    "        images_list = cv2.cvtColor(images_list,cv2.COLOR_BGR2RGB)\n",
    "        images_list = np.expand_dims(cv2.resize(images_list,(120,120)), axis=0)\n",
    "        label[row][i] = 1\n",
    "        row = row + 1\n",
    "        label = np.vstack((label,add_list))\n",
    "        add_img = np.vstack((add_img,images_list))\n",
    "\n",
    "label = label[0:-1]\n",
    "add_img = add_img[1:]"
   ]
  },
  {
   "cell_type": "markdown",
   "metadata": {},
   "source": [
    "## Save data"
   ]
  },
  {
   "cell_type": "code",
   "execution_count": 6,
   "metadata": {},
   "outputs": [],
   "source": [
    "np.save('image_data4.npy',add_img)\n",
    "np.save('label4.npy',label)"
   ]
  },
  {
   "cell_type": "markdown",
   "metadata": {},
   "source": [
    "img_data : 480 640 3 \n",
    "\n",
    "img_data2 : 224 224 3 \n",
    "\n",
    "img_data3 : 120 160 3\n"
   ]
  },
  {
   "cell_type": "markdown",
   "metadata": {},
   "source": [
    "# Make input data\n",
    "- Male or Female"
   ]
  },
  {
   "cell_type": "code",
   "execution_count": 26,
   "metadata": {},
   "outputs": [],
   "source": [
    "# male data\n",
    "M_path = './Face_FM/_male_all'\n",
    "male_list = os.listdir(M_path)\n",
    "\n",
    "male_list.sort()\n",
    "data_M = []\n",
    "add_dataM = np.zeros((1,120,120,3), dtype=np.uint8)\n",
    "lab_M = np.zeros((1,2))\n",
    "add_labM = np.zeros((1,2))\n",
    "row =0\n",
    "num =0\n",
    "\n",
    "for i,name in enumerate(male_list):\n",
    "    file_path = glob.glob(M_path+'/'+name)\n",
    "    data_M = cv2.imread(file_path[0])\n",
    "    data_M = cv2.cvtColor(data_M,cv2.COLOR_BGR2RGB)\n",
    "    data_M = np.expand_dims(cv2.resize(data_M,(120,120)), axis=0)\n",
    "    add_labM[row][0] = 1\n",
    "    row = row + 1\n",
    "    add_labM = np.vstack((add_labM,lab_M))\n",
    "    add_dataM = np.vstack((add_dataM,data_M))"
   ]
  },
  {
   "cell_type": "code",
   "execution_count": 35,
   "metadata": {},
   "outputs": [],
   "source": [
    "F_path = './Face_FM/_female_all'\n",
    "female_list = os.listdir(F_path)\n",
    "\n",
    "female_list.sort()\n",
    "data_F = []\n",
    "add_dataF = np.zeros((1,120,120,3), dtype=np.uint8)\n",
    "lab_F = np.zeros((1,2))\n",
    "add_labF = np.zeros((1,2))\n",
    "row =0\n",
    "num =0\n",
    "\n",
    "for i,name in enumerate(male_list):\n",
    "    file_path = glob.glob(M_path+'/'+name)\n",
    "    data_F = cv2.imread(file_path[0])\n",
    "    data_F = cv2.cvtColor(data_F,cv2.COLOR_BGR2RGB)\n",
    "    data_F = np.expand_dims(cv2.resize(data_F,(120,120)), axis=0)\n",
    "    add_labF[row][0] = 1\n",
    "    row = row + 1\n",
    "    add_labF = np.vstack((add_labF,lab_F))\n",
    "    add_dataF = np.vstack((add_dataF,data_F))"
   ]
  },
  {
   "cell_type": "code",
   "execution_count": 37,
   "metadata": {},
   "outputs": [
    {
     "data": {
      "text/plain": [
       "70"
      ]
     },
     "execution_count": 37,
     "metadata": {},
     "output_type": "execute_result"
    }
   ],
   "source": [
    "len(female_list)"
   ]
  },
  {
   "cell_type": "code",
   "execution_count": null,
   "metadata": {},
   "outputs": [],
   "source": [
    "emotion_list.sort()\n",
    "images_list = []\n",
    "add_img = np.zeros((1,120,120,3), dtype=np.uint8)\n",
    "label = np.zeros((1,5))\n",
    "add_list = np.zeros((1,5))\n",
    "row =0\n",
    "num =0"
   ]
  }
 ],
 "metadata": {
  "kernelspec": {
   "display_name": "Python 3",
   "language": "python",
   "name": "python3"
  },
  "language_info": {
   "codemirror_mode": {
    "name": "ipython",
    "version": 3
   },
   "file_extension": ".py",
   "mimetype": "text/x-python",
   "name": "python",
   "nbconvert_exporter": "python",
   "pygments_lexer": "ipython3",
   "version": "3.5.2"
  }
 },
 "nbformat": 4,
 "nbformat_minor": 2
}
